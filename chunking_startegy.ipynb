{
 "cells": [
  {
   "cell_type": "markdown",
   "id": "731791d1",
   "metadata": {},
   "source": [
    "# Chunking Strategy"
   ]
  },
  {
   "cell_type": "markdown",
   "id": "bd961dcf",
   "metadata": {},
   "source": [
    "## Installing Dependencies"
   ]
  },
  {
   "cell_type": "code",
   "execution_count": 1,
   "id": "0e82694c",
   "metadata": {},
   "outputs": [
    {
     "name": "stdout",
     "output_type": "stream",
     "text": [
      "Note: you may need to restart the kernel to use updated packages.\n"
     ]
    }
   ],
   "source": [
    "%pip install -qU PyPDF2 langchain langchain-community langchain-groq langchain-huggingface faiss-cpu langgraph"
   ]
  },
  {
   "cell_type": "markdown",
   "id": "e2a367c9",
   "metadata": {},
   "source": [
    "## Extracting the text from the file"
   ]
  },
  {
   "cell_type": "code",
   "execution_count": 2,
   "id": "bb196fa8",
   "metadata": {},
   "outputs": [],
   "source": [
    "## Get the PDF file\n",
    "import PyPDF2\n",
    "\n",
    "resume_path = \"AI and the Future.pdf\"\n",
    "\n",
    "\n",
    "full_text = \"\"\n",
    "\n",
    "with open(resume_path, \"rb\") as file:\n",
    "    reader = PyPDF2.PdfReader(file)\n",
    "    for page in reader.pages:\n",
    "        text = page.extract_text()\n",
    "        if text:\n",
    "            full_text += text + \"\\n\"  # add a newline between pages"
   ]
  },
  {
   "cell_type": "code",
   "execution_count": 5,
   "id": "902d4ab3",
   "metadata": {},
   "outputs": [
    {
     "name": "stdout",
     "output_type": "stream",
     "text": [
      "AI and the Future  \n",
      "Artificial Intelligence (AI) stands at the forefront of a technological revoluti\n"
     ]
    }
   ],
   "source": [
    "print(full_text[:100])  # Print the first 1000 characters to check the content"
   ]
  },
  {
   "cell_type": "markdown",
   "id": "4fdc20f5",
   "metadata": {},
   "source": [
    "## Chunking\n",
    "There are different types of chunkings we have(We will use kangchain for chunking strategies)\n",
    "Text splitters split documents into smaller chunks for use in downstream applications.\n",
    "1. `Character Text Spliter:` Here we split the documents on the basis of chunk size and overlap. Nothing new here\n",
    "2. `Recursive Character Text Spliter:` Here we split the documents on the basis of chunk size and overlap. The text is splited by introducing `\\n` new line charter. They are split intelligently (not in the middle of sentences/words unless necessary).\n",
    "3. `Document Spliter:`"
   ]
  },
  {
   "cell_type": "code",
   "execution_count": null,
   "id": "2038660f",
   "metadata": {},
   "outputs": [],
   "source": []
  }
 ],
 "metadata": {
  "kernelspec": {
   "display_name": "Python 3",
   "language": "python",
   "name": "python3"
  },
  "language_info": {
   "codemirror_mode": {
    "name": "ipython",
    "version": 3
   },
   "file_extension": ".py",
   "mimetype": "text/x-python",
   "name": "python",
   "nbconvert_exporter": "python",
   "pygments_lexer": "ipython3",
   "version": "3.13.1"
  }
 },
 "nbformat": 4,
 "nbformat_minor": 5
}
